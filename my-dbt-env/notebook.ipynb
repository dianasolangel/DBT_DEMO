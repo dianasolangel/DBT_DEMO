{
 "cells": [],
 "metadata": {
  "kernelspec": {
   "display_name": "my-dbt-env",
   "language": "python",
   "name": "python3"
  },
  "language_info": {
   "name": "python",
   "version": "3.10.7"
  }
 },
 "nbformat": 4,
 "nbformat_minor": 5
}
